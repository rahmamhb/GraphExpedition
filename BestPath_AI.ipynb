{
  "nbformat": 4,
  "nbformat_minor": 0,
  "metadata": {
    "colab": {
      "provenance": []
    },
    "kernelspec": {
      "name": "python3",
      "display_name": "Python 3"
    },
    "language_info": {
      "name": "python"
    }
  },
  "cells": [
    {
      "cell_type": "code",
      "source": [
        "!pip install osmnx"
      ],
      "metadata": {
        "id": "rl3a-cyETo9Z"
      },
      "execution_count": null,
      "outputs": []
    },
    {
      "cell_type": "code",
      "source": [
        "!pip install geopandas"
      ],
      "metadata": {
        "id": "_2CHGUccT0ea"
      },
      "execution_count": null,
      "outputs": []
    },
    {
      "cell_type": "markdown",
      "source": [
        "First trial\n",
        "\n",
        "\n"
      ],
      "metadata": {
        "id": "uWUTSc5rP14n"
      }
    },
    {
      "cell_type": "code",
      "execution_count": 18,
      "metadata": {
        "id": "CAoHotFDPvBk"
      },
      "outputs": [],
      "source": [
        "import osmnx as ox\n",
        "import geopandas as gpd\n",
        "import matplotlib.pyplot as plt\n",
        "import networkx as nx\n",
        "\n",
        "# Specify the name that is used to seach for the data\n",
        "place_name = \"Boumahra Ahmed, Guelma, Algeria\"\n",
        "file_path = \"/content/sample_data/map.osm\"\n",
        "\n",
        "# Get place boundary related to the place name as a geodataframe\n",
        "area = ox.geocode_to_gdf(place_name)\n",
        "\n",
        "tags = {'building': True}\n",
        "tags1 = {'amenity': 'school'}\n",
        "buildings = ox.features_from_place(place_name, tags)\n",
        "schools = ox.features_from_place(place_name, tags = tags1)\n",
        "\n",
        "G = ox.graph_from_place(place_name, network_type='drive')\n",
        "\n"
      ]
    },
    {
      "cell_type": "markdown",
      "source": [
        "Displaying area and buildings"
      ],
      "metadata": {
        "id": "62-QhN2Z2EO1"
      }
    },
    {
      "cell_type": "code",
      "source": [
        "area.plot()\n",
        "buildings.plot()\n",
        "schools.plot()\n",
        "ox.plot_graph(G)"
      ],
      "metadata": {
        "id": "VDJ9T3Iv2IyC"
      },
      "execution_count": null,
      "outputs": []
    },
    {
      "cell_type": "markdown",
      "source": [
        "Manipulating the graph\n"
      ],
      "metadata": {
        "id": "6kSMV-dc28zU"
      }
    },
    {
      "cell_type": "code",
      "source": [
        "\n",
        "node_mapping = {node: str(i) for i, node in enumerate(G.nodes())}\n",
        "\n",
        "# Creating a new graph with renamed nodes\n",
        "G_renamed = nx.relabel_nodes(G, node_mapping)\n",
        "G = G_renamed\n"
      ],
      "metadata": {
        "id": "jkLAkoKT3CCM"
      },
      "execution_count": null,
      "outputs": []
    },
    {
      "cell_type": "markdown",
      "source": [
        "DFS algorithm implementation"
      ],
      "metadata": {
        "id": "4UvwN90h8zJA"
      }
    },
    {
      "cell_type": "code",
      "source": [
        "def dfs(graph, start, goal):\n",
        "  queue = [[start]]\n",
        "  visited = set()\n",
        "  while queue:\n",
        "    path = queue.pop()\n",
        "    node = path[-1]\n",
        "    if node not in visited:\n",
        "      visited.add(node)\n",
        "      neighbours = list(graph.neighbors(node))\n",
        "      for neighbour in neighbours:\n",
        "        new_path = list(path)\n",
        "        new_path.append(neighbour)\n",
        "        queue.append(new_path)\n",
        "        if neighbour == goal:\n",
        "          return new_path"
      ],
      "metadata": {
        "id": "7Ev5UusK865l"
      },
      "execution_count": null,
      "outputs": []
    },
    {
      "cell_type": "markdown",
      "source": [
        "Displaying the result"
      ],
      "metadata": {
        "id": "zKPhHGphC2ti"
      }
    },
    {
      "cell_type": "code",
      "source": [
        "result_path = dfs(G_renamed , '83' , '156')\n",
        "\n",
        "# Setting the figure size\n",
        "plt.figure(figsize=(30, 20))\n",
        "\n",
        "pos = nx.spring_layout(G)\n",
        "nx.draw(G, pos, with_labels=True, node_color='skyblue', node_size=700)\n",
        "\n",
        "path_edges = [(result_path[i], result_path[i + 1]) for i in range(len(result_path) - 1)]\n",
        "nx.draw_networkx_edges(G, pos, edgelist=path_edges, edge_color='red', width=2)\n",
        "\n",
        "#Displaying the plot\n",
        "plt.show()"
      ],
      "metadata": {
        "id": "nqaYUxctC7tD"
      },
      "execution_count": null,
      "outputs": []
    }
  ]
}